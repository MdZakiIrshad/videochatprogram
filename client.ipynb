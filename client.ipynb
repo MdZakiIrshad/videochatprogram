{
 "cells": [
  {
   "cell_type": "code",
   "execution_count": null,
   "id": "df09522a",
   "metadata": {},
   "outputs": [],
   "source": [
    "# Client-side code\n",
    "import cv2\n",
    "import socket\n",
    "import pickle\n",
    "import struct\n",
    "\n",
    "# Client socket setup\n",
    "client_socket = socket.socket(socket.AF_INET, socket.SOCK_STREAM)\n",
    "host_ip = '192.168.1.39'  # Replace with the server's IP address\n",
    "port = 9999\n",
    "client_socket.connect((host_ip, port))\n",
    "print(\"CONNECTED!\")\n",
    "\n",
    "# Receive and display video frames from server\n",
    "data = b\"\"\n",
    "payload_size = struct.calcsize(\"L\")\n",
    "while True:\n",
    "    while len(data) < payload_size:\n",
    "        packet = client_socket.recv(4 * 1024)\n",
    "        if not packet:\n",
    "            break\n",
    "        data += packet\n",
    "\n",
    "    if not data:\n",
    "        break\n",
    "\n",
    "    message_size = struct.unpack(\"L\", data[:payload_size])[0]\n",
    "    data = data[payload_size:]\n",
    "\n",
    "    while len(data) < message_size:\n",
    "        data += client_socket.recv(4 * 1024)\n",
    "\n",
    "    frame_data = data[:message_size]\n",
    "    data = data[message_size:]\n",
    "\n",
    "    frame = pickle.loads(frame_data)\n",
    "    cv2.imshow('Client', frame)\n",
    "    cv2.waitKey(1)\n",
    "\n",
    "# Close the connection and destroy windows\n",
    "client_socket.close()\n",
    "cv2.destroyAllWindows()\n"
   ]
  },
  {
   "cell_type": "code",
   "execution_count": null,
   "id": "7372f7ee",
   "metadata": {},
   "outputs": [],
   "source": []
  }
 ],
 "metadata": {
  "kernelspec": {
   "display_name": "Python 3 (ipykernel)",
   "language": "python",
   "name": "python3"
  },
  "language_info": {
   "codemirror_mode": {
    "name": "ipython",
    "version": 3
   },
   "file_extension": ".py",
   "mimetype": "text/x-python",
   "name": "python",
   "nbconvert_exporter": "python",
   "pygments_lexer": "ipython3",
   "version": "3.11.4"
  }
 },
 "nbformat": 4,
 "nbformat_minor": 5
}
