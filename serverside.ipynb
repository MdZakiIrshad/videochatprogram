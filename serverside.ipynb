{
 "cells": [
  {
   "cell_type": "code",
   "execution_count": null,
   "id": "4e14a7c7",
   "metadata": {},
   "outputs": [],
   "source": [
    "# Server-side code\n",
    "import cv2\n",
    "import socket\n",
    "import pickle\n",
    "import struct\n",
    "\n",
    "# Server socket setup\n",
    "server_socket = socket.socket(socket.AF_INET, socket.SOCK_STREAM)\n",
    "host_name = socket.gethostname()\n",
    "host_ip = socket.gethostbyname(host_name)\n",
    "print('HOST IP:', host_ip)\n",
    "port = 9999\n",
    "socket_address = (host_ip, port)\n",
    "server_socket.bind(socket_address)\n",
    "server_socket.listen(20)\n",
    "print(\"Waiting for a connection...\")\n",
    "client_socket, client_addr = server_socket.accept()\n",
    "print(\"CONNECTED!\")\n",
    "\n",
    "# Open the camera\n",
    "cap = cv2.VideoCapture(0)\n",
    "\n",
    "while True:\n",
    "    # Read a frame from the camera\n",
    "    ret, frame = cap.read()\n",
    "\n",
    "    # Serialize the frame using pickle\n",
    "    data = pickle.dumps(frame)\n",
    "\n",
    "    # Pack the serialized data and send it to the client\n",
    "    message_size = struct.pack(\"L\", len(data))\n",
    "    client_socket.sendall(message_size + data)\n",
    "\n",
    "    # Display the frame (optional)\n",
    "    cv2.imshow('Server', frame)\n",
    "    cv2.waitKey(10000)\n",
    "\n",
    "# Release the camera and close the connection\n",
    "cap.release()\n",
    "cv2.destroyAllWindows()\n",
    "client_socket.close()\n",
    "server_socket.close()\n"
   ]
  },
  {
   "cell_type": "code",
   "execution_count": null,
   "id": "dbe5be7b",
   "metadata": {},
   "outputs": [],
   "source": []
  }
 ],
 "metadata": {
  "kernelspec": {
   "display_name": "Python 3 (ipykernel)",
   "language": "python",
   "name": "python3"
  },
  "language_info": {
   "codemirror_mode": {
    "name": "ipython",
    "version": 3
   },
   "file_extension": ".py",
   "mimetype": "text/x-python",
   "name": "python",
   "nbconvert_exporter": "python",
   "pygments_lexer": "ipython3",
   "version": "3.11.4"
  }
 },
 "nbformat": 4,
 "nbformat_minor": 5
}
